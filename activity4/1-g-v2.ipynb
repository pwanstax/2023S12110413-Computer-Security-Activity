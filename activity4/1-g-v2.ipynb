{
 "cells": [
  {
   "cell_type": "code",
   "execution_count": 6,
   "metadata": {},
   "outputs": [
    {
     "name": "stdout",
     "output_type": "stream",
     "text": [
      "Attempting decryption with cipher of length 1\n",
      "Attempting decryption with cipher of length 2\n",
      "Attempting decryption with cipher of length 3\n",
      "Attempting decryption with cipher of length 4\n",
      "Attempting decryption with cipher of length 5\n",
      "Decrypted message: SECURITY IS THE FIRST CAUSE OF MISFORTUNE. THIS IS AN OLD GERMAN PROVERB.\n",
      "Used key: ZECUR\n"
     ]
    }
   ],
   "source": [
    "import requests\n",
    "import itertools\n",
    "\n",
    "english_dict = [\"japanese\", \"hacker\", \"itsupport\", \"king\"\n",
    "                , \"habit\", \"money\", \"security\", \"is\", \"the\"\n",
    "                , \"first\", \"cause\", \"of\", \"misfortune\", \"this\"\n",
    "                , \"an\", \"old\", \"german\", \"proverb\"]\n",
    "\n",
    "def decrypt(text_to_decrypt, decryption_cipher):\n",
    "    decrypted_message = \"\"\n",
    "    for char in text_to_decrypt:\n",
    "        if char in \" .\":\n",
    "            decrypted_message += char\n",
    "        else:\n",
    "            decrypted_message += chr(ord(\"A\") + decryption_cipher.index(char))\n",
    "    return decrypted_message\n",
    "\n",
    "def is_message_valid(message):\n",
    "    words = message.split(\" \")\n",
    "    for word in words:\n",
    "        if word.strip(\".\").lower() not in english_dict:\n",
    "            return False\n",
    "    return True\n",
    "\n",
    "alphabet = list(\"ABCDEFGHIJKLMNOPQRSTUVWXYZ\")\n",
    "is_decryption_found = False\n",
    "cipher_text = \"PRCSOFQX FP QDR AFOPQ CZSPR LA JFPALOQSKR. QDFP FP ZK LIU BROJZK MOLTROE.\"\n",
    "\n",
    "for length in range(1, 6):\n",
    "    print(f\"Attempting decryption with cipher of length {length}\")\n",
    "    all_possible_permutations = list(itertools.permutations(alphabet, length))\n",
    "\n",
    "    # Using permutations in reverse order for optimization\n",
    "    for current_permutation in reversed(all_possible_permutations):\n",
    "        current_key = ''.join([character for character in current_permutation])\n",
    "        current_cipher = current_key + ''.join([char for char in alphabet if char not in current_key])\n",
    "        \n",
    "        decrypted_message = decrypt(cipher_text, current_cipher)\n",
    "        if is_message_valid(decrypted_message):\n",
    "            print(f'Decrypted message: {decrypted_message}')\n",
    "            print(f'Used key: {current_key}')\n",
    "            is_decryption_found = True\n",
    "            break\n",
    "\n",
    "    if is_decryption_found:\n",
    "        break\n"
   ]
  }
 ],
 "metadata": {
  "kernelspec": {
   "display_name": "Python 3",
   "language": "python",
   "name": "python3"
  },
  "language_info": {
   "codemirror_mode": {
    "name": "ipython",
    "version": 3
   },
   "file_extension": ".py",
   "mimetype": "text/x-python",
   "name": "python",
   "nbconvert_exporter": "python",
   "pygments_lexer": "ipython3",
   "version": "3.11.5"
  },
  "orig_nbformat": 4
 },
 "nbformat": 4,
 "nbformat_minor": 2
}
