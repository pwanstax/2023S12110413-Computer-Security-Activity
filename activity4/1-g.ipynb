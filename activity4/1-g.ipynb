{
 "cells": [
  {
   "cell_type": "code",
   "execution_count": null,
   "metadata": {},
   "outputs": [],
   "source": [
    "import requests\n",
    "import re\n",
    "\n",
    "# Cipher text for analysis\n",
    "cipher_text = \"PRCSOFQX FP QDR AFOPQ CZSPR LA JFPALOQSKR. QDFP FP ZK LIU\""
   ]
  },
  {
   "cell_type": "code",
   "execution_count": null,
   "metadata": {},
   "outputs": [],
   "source": [
    "# Retrieve and prepare the dictionary\n",
    "dict_url = \"https://raw.githubusercontent.com/dwyl/english-words/master/words.txt\"\n",
    "dictionary = requests.get(dict_url).text.split(\"\\n\")\n",
    "# Display sample dictionary items\n",
    "print(dictionary[100:120])"
   ]
  },
  {
   "cell_type": "code",
   "execution_count": null,
   "metadata": {},
   "outputs": [],
   "source": [
    "# Analyze the dictionary by word length\n",
    "word_lengths = [2, 3, 4, 5, 6, 7]\n",
    "for length in word_lengths:\n",
    "    count = len([word for word in dictionary if len(word) == length])\n",
    "    print(f\"Length {length}: \", count)"
   ]
  },
  {
   "cell_type": "code",
   "execution_count": null,
   "metadata": {},
   "outputs": [],
   "source": [
    "def rearrange_by_score_and_length(words):\n",
    "    frequencies = {}\n",
    "    word_scores = {}\n",
    "\n",
    "    unique_words = set(words)\n",
    "    # Calculate character frequencies\n",
    "    for word in unique_words:\n",
    "        for char in word:\n",
    "            frequencies[char] = frequencies.get(char, 0) + 1\n",
    "    # Calculate word scores based on character frequencies\n",
    "    for word in unique_words:\n",
    "        score = sum([frequencies[char] for char in word])\n",
    "        word_scores[word] = score\n",
    "\n",
    "    # Sort words by length and score\n",
    "    sorted_words = sorted(unique_words, key=lambda word: -len(word) * word_scores[word])\n",
    "\n",
    "    for word in sorted_words:\n",
    "        print(word, len(word), word_scores[word], len(word) / word_scores[word])\n",
    "    return sorted_words\n",
    "\n",
    "\n",
    "sorted_cipher_words = rearrange_by_score_and_length(cipher_text)\n",
    "print(sorted_cipher_words)"
   ]
  },
  {
   "cell_type": "code",
   "execution_count": null,
   "metadata": {},
   "outputs": [],
   "source": [
    "def get_translation(mapping, text):\n",
    "    return \"\".join([mapping[char] if char in mapping else char for char in text])\n",
    "\n",
    "\n",
    "def create_regex_pattern(word):\n",
    "    return f'^{\".\".join([\".\" if char.isupper() else char for char in word])}$'\n",
    "\n",
    "\n",
    "def search_matching_words_in_dict(pattern, word_list):\n",
    "    compiled_pattern = re.compile(pattern)\n",
    "    return [word for word in word_list if compiled_pattern.match(word)]\n",
    "\n",
    "\n",
    "def exclude_known_translations(known_vals, candidate_words):\n",
    "    return [\n",
    "        word\n",
    "        for word in candidate_words\n",
    "        if all([char not in known_vals for char in word])\n",
    "    ]\n",
    "\n",
    "\n",
    "def apply_translation(mapping, encrypted, decrypted):\n",
    "    for i, char in enumerate(encrypted):\n",
    "        if char.isupper():\n",
    "            if decrypted[i] in mapping.values():\n",
    "                return False\n",
    "            mapping[char] = decrypted[i]\n",
    "    return True\n",
    "\n",
    "\n",
    "def brute_force_decrypt(mapping, cipher_words, word_list):\n",
    "    if not cipher_words:\n",
    "        print(\"Potential solution:\", mapping)\n",
    "        return [mapping]\n",
    "    \n",
    "    current_word = cipher_words[0]\n",
    "    translated_word = get_translation(mapping, current_word)\n",
    "    \n",
    "    if translated_word.islower():\n",
    "        return brute_force_decrypt(mapping, cipher_words[1:], word_list)\n",
    "    \n",
    "    regex_pattern = create_regex_pattern(translated_word)\n",
    "    matching_words = search_matching_words_in_dict(regex_pattern, word_list)\n",
    "    \n",
    "    known_translation_chars = [char for char in translated_word if char.islower()]\n",
    "    unknown_translation_values = [val for val in mapping.values() if val not in known_translation_chars]\n",
    "    filtered_words = exclude_known_translations(unknown_translation_values, matching_words)\n",
    "    \n",
    "    print(f\"Potential matches for {current_word}: {', '.join(filtered_words[:8])}\")\n",
    "    print(\"Translation so far:\", get_translation(mapping, \" \".join(cipher_text)))\n",
    "    \n",
    "    potential_solutions = []\n",
    "    for word in filtered_words:\n",
    "        new_mapping = mapping.copy()\n",
    "        if apply_translation(new_mapping, translated_word, word):\n",
    "            found_solutions = brute_force_decrypt(new_mapping, cipher_words[1:], word_list)\n",
    "            potential_solutions.extend(found_solutions)\n",
    "    return potential_solutions"
   ]
  },
  {
   "cell_type": "code",
   "execution_count": null,
   "metadata": {},
   "outputs": [],
   "source": [
    "found_translations = brute_force_decrypt({}, sorted_cipher_words, dictionary)\n",
    "print(found_translations)"
   ]
  }
 ],
 "metadata": {
  "kernelspec": {
   "display_name": "Python 3",
   "language": "python",
   "name": "python3"
  },
  "language_info": {
   "codemirror_mode": {
    "name": "ipython",
    "version": 3
   },
   "file_extension": ".py",
   "mimetype": "text/x-python",
   "name": "python",
   "nbconvert_exporter": "python",
   "pygments_lexer": "ipython3",
   "version": "3.11.2"
  },
  "orig_nbformat": 4
 },
 "nbformat": 4,
 "nbformat_minor": 2
}
